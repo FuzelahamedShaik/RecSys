{
 "cells": [
  {
   "cell_type": "code",
   "execution_count": 66,
   "id": "db70d654",
   "metadata": {},
   "outputs": [],
   "source": [
    "import pandas as pd\n",
    "import numpy as np"
   ]
  },
  {
   "cell_type": "code",
   "execution_count": 2,
   "id": "498dc445",
   "metadata": {},
   "outputs": [],
   "source": [
    "from sklearn.model_selection import train_test_split"
   ]
  },
  {
   "cell_type": "code",
   "execution_count": 297,
   "id": "31367225",
   "metadata": {},
   "outputs": [],
   "source": [
    "ratings_df = pd.read_csv('./Dataset/ratings.txt',sep=\" \",header=None)\n",
    "trust_df = pd.read_csv('./Dataset/trust.txt',sep=\" \",header=None)"
   ]
  },
  {
   "cell_type": "code",
   "execution_count": 151,
   "id": "7b33759c",
   "metadata": {},
   "outputs": [],
   "source": [
    "ratings_df.rename(columns = {0:'user_id', \n",
    "                       1:'item_id',\n",
    "                         2:'ratings'}, \n",
    "            inplace = True)"
   ]
  },
  {
   "cell_type": "code",
   "execution_count": 298,
   "id": "27d2c5aa",
   "metadata": {},
   "outputs": [],
   "source": [
    "trust_df.rename(columns = {0:'trustors', \n",
    "                       1:'trustee',\n",
    "                         2:'trust_value'}, \n",
    "            inplace = True)"
   ]
  },
  {
   "cell_type": "code",
   "execution_count": 152,
   "id": "8e17341d",
   "metadata": {
    "scrolled": true
   },
   "outputs": [
    {
     "data": {
      "text/html": [
       "<div>\n",
       "<style scoped>\n",
       "    .dataframe tbody tr th:only-of-type {\n",
       "        vertical-align: middle;\n",
       "    }\n",
       "\n",
       "    .dataframe tbody tr th {\n",
       "        vertical-align: top;\n",
       "    }\n",
       "\n",
       "    .dataframe thead th {\n",
       "        text-align: right;\n",
       "    }\n",
       "</style>\n",
       "<table border=\"1\" class=\"dataframe\">\n",
       "  <thead>\n",
       "    <tr style=\"text-align: right;\">\n",
       "      <th></th>\n",
       "      <th>user_id</th>\n",
       "      <th>item_id</th>\n",
       "      <th>ratings</th>\n",
       "    </tr>\n",
       "  </thead>\n",
       "  <tbody>\n",
       "    <tr>\n",
       "      <th>0</th>\n",
       "      <td>1</td>\n",
       "      <td>1</td>\n",
       "      <td>2.0</td>\n",
       "    </tr>\n",
       "    <tr>\n",
       "      <th>1</th>\n",
       "      <td>1</td>\n",
       "      <td>2</td>\n",
       "      <td>4.0</td>\n",
       "    </tr>\n",
       "    <tr>\n",
       "      <th>2</th>\n",
       "      <td>1</td>\n",
       "      <td>3</td>\n",
       "      <td>3.5</td>\n",
       "    </tr>\n",
       "    <tr>\n",
       "      <th>3</th>\n",
       "      <td>1</td>\n",
       "      <td>4</td>\n",
       "      <td>3.0</td>\n",
       "    </tr>\n",
       "    <tr>\n",
       "      <th>4</th>\n",
       "      <td>1</td>\n",
       "      <td>5</td>\n",
       "      <td>4.0</td>\n",
       "    </tr>\n",
       "  </tbody>\n",
       "</table>\n",
       "</div>"
      ],
      "text/plain": [
       "   user_id  item_id  ratings\n",
       "0        1        1      2.0\n",
       "1        1        2      4.0\n",
       "2        1        3      3.5\n",
       "3        1        4      3.0\n",
       "4        1        5      4.0"
      ]
     },
     "execution_count": 152,
     "metadata": {},
     "output_type": "execute_result"
    }
   ],
   "source": [
    "ratings_df.head()"
   ]
  },
  {
   "cell_type": "code",
   "execution_count": 299,
   "id": "0da55f53",
   "metadata": {},
   "outputs": [
    {
     "data": {
      "text/html": [
       "<div>\n",
       "<style scoped>\n",
       "    .dataframe tbody tr th:only-of-type {\n",
       "        vertical-align: middle;\n",
       "    }\n",
       "\n",
       "    .dataframe tbody tr th {\n",
       "        vertical-align: top;\n",
       "    }\n",
       "\n",
       "    .dataframe thead th {\n",
       "        text-align: right;\n",
       "    }\n",
       "</style>\n",
       "<table border=\"1\" class=\"dataframe\">\n",
       "  <thead>\n",
       "    <tr style=\"text-align: right;\">\n",
       "      <th></th>\n",
       "      <th>trustors</th>\n",
       "      <th>trustee</th>\n",
       "      <th>trust_value</th>\n",
       "    </tr>\n",
       "  </thead>\n",
       "  <tbody>\n",
       "    <tr>\n",
       "      <th>0</th>\n",
       "      <td>2</td>\n",
       "      <td>966</td>\n",
       "      <td>1</td>\n",
       "    </tr>\n",
       "    <tr>\n",
       "      <th>1</th>\n",
       "      <td>2</td>\n",
       "      <td>104</td>\n",
       "      <td>1</td>\n",
       "    </tr>\n",
       "    <tr>\n",
       "      <th>2</th>\n",
       "      <td>5</td>\n",
       "      <td>1509</td>\n",
       "      <td>1</td>\n",
       "    </tr>\n",
       "    <tr>\n",
       "      <th>3</th>\n",
       "      <td>6</td>\n",
       "      <td>1192</td>\n",
       "      <td>1</td>\n",
       "    </tr>\n",
       "    <tr>\n",
       "      <th>4</th>\n",
       "      <td>7</td>\n",
       "      <td>1510</td>\n",
       "      <td>1</td>\n",
       "    </tr>\n",
       "  </tbody>\n",
       "</table>\n",
       "</div>"
      ],
      "text/plain": [
       "   trustors  trustee  trust_value\n",
       "0         2      966            1\n",
       "1         2      104            1\n",
       "2         5     1509            1\n",
       "3         6     1192            1\n",
       "4         7     1510            1"
      ]
     },
     "execution_count": 299,
     "metadata": {},
     "output_type": "execute_result"
    }
   ],
   "source": [
    "trust_df.head()"
   ]
  },
  {
   "cell_type": "code",
   "execution_count": 47,
   "id": "5e28038a",
   "metadata": {},
   "outputs": [],
   "source": [
    "train_user_id = []\n",
    "train_item_id = []\n",
    "train_ratings = []\n",
    "test_user_id = []\n",
    "test_item_id = []\n",
    "test_ratings = []\n",
    "\n",
    "for user in list(ratings_df['user_id'].unique()):\n",
    "    temp_user_df = ratings_df[ratings_df['user_id'] == user]\n",
    "    user_len = temp_user_df.shape[0]\n",
    "    train_ratio = int(round(user_len*0.8))\n",
    "    test_ratio = user_len - train_ratio\n",
    "    \n",
    "    for i in range(train_ratio):\n",
    "        train_user_id.append(user)\n",
    "        train_item_id.append(temp_user_df['item_id'].iloc[i])\n",
    "        train_ratings.append(temp_user_df['ratings'].iloc[i])\n",
    "        \n",
    "    if test_ratio > 0:\n",
    "        for j in range(test_ratio):\n",
    "            test_user_id.append(user)\n",
    "            test_item_id.append(temp_user_df['item_id'].iloc[train_ratio+j])\n",
    "            test_ratings.append(temp_user_df['ratings'].iloc[train_ratio+j])"
   ]
  },
  {
   "cell_type": "code",
   "execution_count": 48,
   "id": "18cc4100",
   "metadata": {},
   "outputs": [],
   "source": [
    "train = pd.DataFrame()\n",
    "test = pd.DataFrame()\n",
    "\n",
    "train['user_id'] = train_user_id\n",
    "train['item_id'] = train_item_id\n",
    "train['ratings'] = train_ratings\n",
    "test['user_id'] = test_user_id\n",
    "test['item_id'] = test_item_id\n",
    "test['ratings'] = test_ratings"
   ]
  },
  {
   "cell_type": "code",
   "execution_count": 54,
   "id": "d8d68167",
   "metadata": {},
   "outputs": [],
   "source": [
    "def common_elements(list1, list2):\n",
    "    result = []\n",
    "    for element in list1:\n",
    "        if element in list2:\n",
    "            result.append(element)\n",
    "    return result"
   ]
  },
  {
   "cell_type": "code",
   "execution_count": 83,
   "id": "a2fbdec2",
   "metadata": {},
   "outputs": [],
   "source": [
    "def pearson_similarity(u,v):\n",
    "    u = np.array(u)\n",
    "    v = np.array(v)\n",
    "    u_ = np.mean(u)\n",
    "    v_ = np.mean(v)\n",
    "    res = np.dot((u-u_),(v-v_))/np.sqrt(np.sum((u-u_)**2))*np.sqrt(np.sum((v-v_)**2))\n",
    "    return round(res,3)"
   ]
  },
  {
   "cell_type": "markdown",
   "id": "91405f3b",
   "metadata": {},
   "source": [
    "## Scenario 1"
   ]
  },
  {
   "cell_type": "code",
   "execution_count": 285,
   "id": "a313c33f",
   "metadata": {},
   "outputs": [
    {
     "name": "stderr",
     "output_type": "stream",
     "text": [
      "C:\\Users\\Fuzel Shaik\\AppData\\Local\\Temp\\ipykernel_25112\\686527958.py:6: RuntimeWarning: invalid value encountered in double_scalars\n",
      "  res = np.dot((u-u_),(v-v_))/np.sqrt(np.sum((u-u_)**2))*np.sqrt(np.sum((v-v_)**2))\n"
     ]
    }
   ],
   "source": [
    "sim_dict = {}\n",
    "\n",
    "count = 0\n",
    "\n",
    "for test_user,test_item in zip(list(test['user_id']),list(test['item_id'])):\n",
    "    user_similarity_list = []\n",
    "    for user in list(train[train['item_id']==test_item]['user_id']):\n",
    "        common_items = common_elements(list(train[train['user_id']==test_user]['item_id']),list(train[train['user_id']==user]['item_id']))\n",
    "        u = []\n",
    "        v = []\n",
    "\n",
    "        for item in common_items:\n",
    "            u.append(train[(train['user_id']==test_user)&(train['item_id']==item)]['ratings'].iloc[0])\n",
    "\n",
    "        for item in common_items:\n",
    "            v.append(train[(train['user_id']==user)&(train['item_id']==item)]['ratings'].iloc[0])\n",
    "\n",
    "        sim = pearson_similarity(u,v)\n",
    "\n",
    "        user_similarity_list.append((user,sim))\n",
    "        \n",
    "    key = str(test_user)+' '+str(test_item)\n",
    "\n",
    "    sim_dict[key] = user_similarity_list\n",
    "    \n",
    "    count += 1\n",
    "    \n",
    "    if count >= 200:\n",
    "        break"
   ]
  },
  {
   "cell_type": "code",
   "execution_count": 286,
   "id": "b40f7471",
   "metadata": {},
   "outputs": [],
   "source": [
    "test_user_neighbor_dict = {}\n",
    "test_user_neighbor_sim_dict = {}\n",
    "for k in list(sim_dict.keys()):\n",
    "    temp_dict = {}\n",
    "    for user,sim in sim_dict[k]:\n",
    "        if sim >= 0 or sim < 0:\n",
    "            temp_dict[user] = sim\n",
    "\n",
    "    sorted_temp_dict = dict(sorted(temp_dict.items(), key=lambda x:x[1], reverse=True))\n",
    "    k_neighbors_user_id = list(sorted_temp_dict.keys())[:20]\n",
    "    test_user_neighbor_dict[k] = k_neighbors_user_id\n",
    "    temp_sim_list = []\n",
    "    for u in k_neighbors_user_id:\n",
    "        temp_sim_list.append(temp_dict[u])\n",
    "    test_user_neighbor_sim_dict[k] = temp_sim_list"
   ]
  },
  {
   "cell_type": "code",
   "execution_count": 287,
   "id": "1eaa42b4",
   "metadata": {},
   "outputs": [],
   "source": [
    "def prediction(key):\n",
    "    \n",
    "    k_user_id_list = test_user_neighbor_dict[key]\n",
    "    k_user_sim_list = test_user_neighbor_sim_dict[key]\n",
    "    \n",
    "    test_user_id = key.split()[0]\n",
    "    test_item_id = key.split()[1]\n",
    "    \n",
    "    temp_df = train[train['item_id'] == test_item_id]\n",
    "    \n",
    "    ratings = []\n",
    "    for user in k_user_id_list:\n",
    "        ratings.append(train[train['user_id'] == user]['ratings'].iloc[0])\n",
    "        \n",
    "    k_user_sim_list = np.array(k_user_sim_list)\n",
    "    ratings = np.array(ratings)\n",
    "    \n",
    "    res = np.sum(np.multiply(k_user_sim_list,ratings))/np.sum(k_user_sim_list)    \n",
    "    \n",
    "    return round(res,1)"
   ]
  },
  {
   "cell_type": "code",
   "execution_count": 353,
   "id": "c44e7034",
   "metadata": {},
   "outputs": [],
   "source": [
    "def mae(y_true,y_pred):\n",
    "    nan_index = list(np.argwhere(np.isnan(y_pred)).flatten())\n",
    "    te = len(y_true)\n",
    "    y_true = np.array(y_true)\n",
    "    y_pred = np.delete(y_pred, nan_index)\n",
    "    y_true = np.delete(y_true, nan_index)\n",
    "    res = np.sum(np.abs(y_true-y_pred))/te\n",
    "    return round(res,3),nan_index"
   ]
  },
  {
   "cell_type": "code",
   "execution_count": 354,
   "id": "aa7e624b",
   "metadata": {},
   "outputs": [],
   "source": [
    "def rmse(y_true,y_pred):\n",
    "    nan_index = list(np.argwhere(np.isnan(y_pred)).flatten())\n",
    "    te = len(y_true)\n",
    "    y_true = np.array(y_true)\n",
    "    y_pred = np.delete(y_pred, nan_index)\n",
    "    y_true = np.delete(y_true, nan_index)\n",
    "    res = np.sqrt(np.sum((y_true-y_pred)**2)/te)\n",
    "    return round(res,3),nan_index"
   ]
  },
  {
   "cell_type": "code",
   "execution_count": 288,
   "id": "e0058ff9",
   "metadata": {},
   "outputs": [
    {
     "name": "stderr",
     "output_type": "stream",
     "text": [
      "C:\\Users\\Fuzel Shaik\\AppData\\Local\\Temp\\ipykernel_25112\\938472115.py:18: RuntimeWarning: invalid value encountered in double_scalars\n",
      "  res = np.sum(np.multiply(k_user_sim_list,ratings))/np.sum(k_user_sim_list)\n"
     ]
    }
   ],
   "source": [
    "y_pred = []\n",
    "for k in list(sim_dict.keys()):\n",
    "    y_pred.append(prediction(k))"
   ]
  },
  {
   "cell_type": "code",
   "execution_count": 289,
   "id": "63c58b07",
   "metadata": {},
   "outputs": [],
   "source": [
    "y_pred = np.array(y_pred)"
   ]
  },
  {
   "cell_type": "code",
   "execution_count": 290,
   "id": "bf9def1a",
   "metadata": {},
   "outputs": [
    {
     "data": {
      "text/plain": [
       "(200,)"
      ]
     },
     "execution_count": 290,
     "metadata": {},
     "output_type": "execute_result"
    }
   ],
   "source": [
    "y_pred.shape"
   ]
  },
  {
   "cell_type": "code",
   "execution_count": 291,
   "id": "7f21b841",
   "metadata": {},
   "outputs": [],
   "source": [
    "y_true = list(test['ratings'])[:200]"
   ]
  },
  {
   "cell_type": "code",
   "execution_count": 292,
   "id": "7a08e8a5",
   "metadata": {},
   "outputs": [
    {
     "data": {
      "text/plain": [
       "200"
      ]
     },
     "execution_count": 292,
     "metadata": {},
     "output_type": "execute_result"
    }
   ],
   "source": [
    "len(y_true)"
   ]
  },
  {
   "cell_type": "code",
   "execution_count": 293,
   "id": "1bfd0b5f",
   "metadata": {},
   "outputs": [
    {
     "data": {
      "text/plain": [
       "1.023"
      ]
     },
     "execution_count": 293,
     "metadata": {},
     "output_type": "execute_result"
    }
   ],
   "source": [
    "mae_score, unpred_index = mae(y_true,y_pred)\n",
    "mae_score"
   ]
  },
  {
   "cell_type": "code",
   "execution_count": 294,
   "id": "37156b03",
   "metadata": {},
   "outputs": [
    {
     "data": {
      "text/plain": [
       "1.375"
      ]
     },
     "execution_count": 294,
     "metadata": {},
     "output_type": "execute_result"
    }
   ],
   "source": [
    "rmse_score, unpred_index = rmse(y_true,y_pred)\n",
    "rmse_score"
   ]
  },
  {
   "cell_type": "code",
   "execution_count": 295,
   "id": "13accb13",
   "metadata": {},
   "outputs": [],
   "source": [
    "rc = (y_pred.shape[0]-len(unpred_index))/len(y_true)"
   ]
  },
  {
   "cell_type": "code",
   "execution_count": 296,
   "id": "39c3f4a2",
   "metadata": {},
   "outputs": [
    {
     "data": {
      "text/plain": [
       "0.965"
      ]
     },
     "execution_count": 296,
     "metadata": {},
     "output_type": "execute_result"
    }
   ],
   "source": [
    "rc"
   ]
  },
  {
   "cell_type": "markdown",
   "id": "adc2bd30",
   "metadata": {},
   "source": [
    "## Scenario 2 "
   ]
  },
  {
   "cell_type": "code",
   "execution_count": 325,
   "id": "a7f25c55",
   "metadata": {
    "scrolled": true
   },
   "outputs": [
    {
     "name": "stderr",
     "output_type": "stream",
     "text": [
      "C:\\Users\\Fuzel Shaik\\AppData\\Local\\Temp\\ipykernel_25112\\2650700682.py:11: RuntimeWarning: invalid value encountered in double_scalars\n",
      "  y_pred.append(np.sum(ratings)/len(trustee_list))\n"
     ]
    },
    {
     "name": "stdout",
     "output_type": "stream",
     "text": [
      "For top 20.0% nearest neighbors, MAE is 1.039\n",
      "For top 20.0% nearest neighbors, RMSE is 2.867\n",
      "For top 20.0% nearest neighbors, rate coverage is 0.38657243816254416\n",
      "For top 40.0% nearest neighbors, MAE is 0.819\n",
      "For top 40.0% nearest neighbors, RMSE is 2.481\n",
      "For top 40.0% nearest neighbors, rate coverage is 0.36706713780918726\n",
      "For top 60.00000000000001% nearest neighbors, MAE is 0.441\n",
      "For top 60.00000000000001% nearest neighbors, RMSE is 1.548\n",
      "For top 60.00000000000001% nearest neighbors, rate coverage is 0.3395053003533569\n",
      "For top 80.0% nearest neighbors, MAE is 0.332\n",
      "For top 80.0% nearest neighbors, RMSE is 1.284\n",
      "For top 80.0% nearest neighbors, rate coverage is 0.3236749116607774\n",
      "For top 100.0% nearest neighbors, MAE is 0.297\n",
      "For top 100.0% nearest neighbors, RMSE is 1.224\n",
      "For top 100.0% nearest neighbors, rate coverage is 0.3185865724381625\n"
     ]
    }
   ],
   "source": [
    "for i in np.linspace(0.2,1,5):\n",
    "    y_pred = []\n",
    "    for test_user,test_item in zip(list(test['user_id']),list(test['item_id'])):\n",
    "        try:\n",
    "            trustee_list = list(trust_df[trust_df['trustors']==test_user]['trustee'])\n",
    "            slice_value = round(len(trustee_list)*i)\n",
    "            temp_df = train[train['item_id'] == test_item] \n",
    "            ratings = []\n",
    "            for user in trustee_list[:slice_value]:\n",
    "                ratings.append(train[train['user_id'] == user]['ratings'].iloc[0])\n",
    "            y_pred.append(np.sum(ratings)/len(trustee_list))\n",
    "        except:\n",
    "            y_pred.append(np.nan)\n",
    "\n",
    "    y_pred = np.array(y_pred)\n",
    "    mae_score, unpred_index = mae(list(test['ratings']),y_pred)\n",
    "    rmse_score, unpred_index = rmse(list(test['ratings']),y_pred)\n",
    "    rc = (y_pred.shape[0]-len(unpred_index))/len(list(test['ratings']))\n",
    "    \n",
    "    print('For top '+str(i*100)+'% nearest neighbors, MAE is '+str(mae_score))\n",
    "    print('For top '+str(i*100)+'% nearest neighbors, RMSE is '+str(rmse_score))\n",
    "    print('For top '+str(i*100)+'% nearest neighbors, rate coverage is '+str(rc))"
   ]
  },
  {
   "cell_type": "markdown",
   "id": "3eef1cd5",
   "metadata": {},
   "source": [
    "## Scenario 3"
   ]
  },
  {
   "cell_type": "code",
   "execution_count": 347,
   "id": "6076f247",
   "metadata": {
    "scrolled": true
   },
   "outputs": [
    {
     "name": "stderr",
     "output_type": "stream",
     "text": [
      "C:\\Users\\Fuzel Shaik\\AppData\\Local\\Temp\\ipykernel_25112\\686527958.py:6: RuntimeWarning: invalid value encountered in double_scalars\n",
      "  res = np.dot((u-u_),(v-v_))/np.sqrt(np.sum((u-u_)**2))*np.sqrt(np.sum((v-v_)**2))\n"
     ]
    },
    {
     "name": "stdout",
     "output_type": "stream",
     "text": [
      "1\n",
      "2\n",
      "3\n",
      "4\n",
      "5\n",
      "6\n",
      "7\n",
      "8\n",
      "9\n",
      "10\n",
      "11\n",
      "12\n",
      "13\n",
      "14\n",
      "15\n",
      "16\n",
      "17\n",
      "18\n",
      "19\n",
      "20\n",
      "21\n",
      "22\n",
      "23\n",
      "24\n",
      "25\n",
      "26\n",
      "27\n",
      "28\n",
      "29\n",
      "30\n",
      "31\n",
      "32\n",
      "33\n",
      "34\n",
      "35\n",
      "36\n",
      "37\n",
      "38\n",
      "39\n",
      "40\n",
      "41\n",
      "42\n",
      "43\n",
      "44\n",
      "45\n",
      "46\n",
      "47\n",
      "48\n",
      "49\n",
      "50\n",
      "51\n",
      "52\n",
      "53\n",
      "54\n",
      "55\n",
      "56\n",
      "57\n",
      "58\n",
      "59\n",
      "60\n",
      "61\n",
      "62\n",
      "63\n",
      "64\n",
      "65\n",
      "66\n",
      "67\n",
      "68\n",
      "69\n",
      "70\n",
      "71\n",
      "72\n",
      "73\n",
      "74\n",
      "75\n",
      "76\n",
      "77\n",
      "78\n",
      "79\n",
      "80\n",
      "81\n",
      "82\n",
      "83\n",
      "84\n",
      "85\n",
      "86\n",
      "87\n",
      "88\n",
      "89\n",
      "90\n",
      "91\n",
      "92\n",
      "93\n",
      "94\n",
      "95\n",
      "96\n",
      "97\n",
      "98\n",
      "99\n",
      "100\n"
     ]
    }
   ],
   "source": [
    "weight_dict = {}\n",
    "\n",
    "count = 0\n",
    "\n",
    "for test_user,test_item in zip(list(test['user_id']),list(test['item_id'])):\n",
    "    user_weight_list = []\n",
    "    user_list = train[train['item_id'] == test_item]['user_id']\n",
    "    trustee_list = list(trust_df[trust_df['trustors']==test_user]['trustee'])\n",
    "    w = 0\n",
    "    for user in user_list:\n",
    "        common_items = common_elements(list(train[train['user_id']==test_user]['item_id']),list(train[train['user_id']==user]['item_id']))\n",
    "        if user in trustee_list:\n",
    "            trust_value = trust_df[(trust_df['trustors'] == test_user)&(trust_df['trustee'] == user)]['trust_value'].iloc[0]\n",
    "            if len(common_items) > 0:\n",
    "                u = []\n",
    "                v = []\n",
    "\n",
    "                for item in common_items:\n",
    "                    u.append(train[(train['user_id']==test_user)&(train['item_id']==item)]['ratings'].iloc[0])\n",
    "\n",
    "                for item in common_items:\n",
    "                    v.append(train[(train['user_id']==user)&(train['item_id']==item)]['ratings'].iloc[0])\n",
    "\n",
    "                sim = pearson_similarity(u,v)\n",
    "                \n",
    "                w = (2*sim*trust_value)/(sim+trust_value)\n",
    "            else:\n",
    "                w = trust_value\n",
    "        else:\n",
    "            if len(common_items) > 0:\n",
    "                u = []\n",
    "                v = []\n",
    "\n",
    "                for item in common_items:\n",
    "                    u.append(train[(train['user_id']==test_user)&(train['item_id']==item)]['ratings'].iloc[0])\n",
    "\n",
    "                for item in common_items:\n",
    "                    v.append(train[(train['user_id']==user)&(train['item_id']==item)]['ratings'].iloc[0])\n",
    "\n",
    "                sim = pearson_similarity(u,v)\n",
    "\n",
    "                w = sim\n",
    "            else:\n",
    "                w = 0\n",
    "        \n",
    "        user_weight_list.append((user,w))\n",
    "        \n",
    "    key = str(test_user)+' '+str(test_item)\n",
    "    \n",
    "    weight_dict[key] = user_weight_list\n",
    "    \n",
    "    count += 1\n",
    "    \n",
    "    print(count)\n",
    "    \n",
    "    if count >= 100:\n",
    "        break"
   ]
  },
  {
   "cell_type": "code",
   "execution_count": 348,
   "id": "873e6d4e",
   "metadata": {},
   "outputs": [],
   "source": [
    "test_user_neighbor_dict = {}\n",
    "test_user_neighbor_weight_dict = {}\n",
    "for k in list(weight_dict.keys()):\n",
    "    temp_dict = {}\n",
    "    for user,weight in weight_dict[k]:\n",
    "        if weight >= 0 or weight < 0:\n",
    "            temp_dict[user] = weight\n",
    "\n",
    "    sorted_temp_dict = dict(sorted(temp_dict.items(), key=lambda x:x[1], reverse=True))\n",
    "    k_neighbors_user_id = list(sorted_temp_dict.keys())[:20]\n",
    "    test_user_neighbor_dict[k] = k_neighbors_user_id\n",
    "    temp_weight_list = []\n",
    "    for u in k_neighbors_user_id:\n",
    "        temp_weight_list.append(temp_dict[u])\n",
    "    test_user_neighbor_weight_dict[k] = temp_weight_list"
   ]
  },
  {
   "cell_type": "code",
   "execution_count": 331,
   "id": "f2e46c2d",
   "metadata": {},
   "outputs": [],
   "source": [
    "def prediction(key):\n",
    "    \n",
    "    k_user_id_list = test_user_neighbor_dict[key]\n",
    "    k_user_weight_list = test_user_neighbor_weight_dict[key]\n",
    "    \n",
    "    test_user_id = key.split()[0]\n",
    "    test_item_id = key.split()[1]\n",
    "    \n",
    "    temp_df = train[train['item_id'] == test_item_id]\n",
    "    \n",
    "    ratings = []\n",
    "    for user in k_user_id_list:\n",
    "        ratings.append(train[train['user_id'] == user]['ratings'].iloc[0])\n",
    "        \n",
    "    k_user_weight_list = np.array(k_user_weight_list)\n",
    "    ratings = np.array(ratings)\n",
    "    \n",
    "    res = np.sum(np.multiply(k_user_weight_list,ratings))/np.sum(k_user_weight_list)    \n",
    "    \n",
    "    return round(res,1)"
   ]
  },
  {
   "cell_type": "code",
   "execution_count": 349,
   "id": "8c4a2c86",
   "metadata": {},
   "outputs": [
    {
     "name": "stderr",
     "output_type": "stream",
     "text": [
      "C:\\Users\\Fuzel Shaik\\AppData\\Local\\Temp\\ipykernel_25112\\2282936548.py:18: RuntimeWarning: invalid value encountered in double_scalars\n",
      "  res = np.sum(np.multiply(k_user_weight_list,ratings))/np.sum(k_user_weight_list)\n"
     ]
    }
   ],
   "source": [
    "y_pred = []\n",
    "for k in list(weight_dict.keys()):\n",
    "    y_pred.append(prediction(k))"
   ]
  },
  {
   "cell_type": "code",
   "execution_count": 350,
   "id": "6e4f55a3",
   "metadata": {},
   "outputs": [],
   "source": [
    "y_true = list(test['ratings'])[:100]"
   ]
  },
  {
   "cell_type": "code",
   "execution_count": 356,
   "id": "1263cc1d",
   "metadata": {
    "scrolled": true
   },
   "outputs": [
    {
     "data": {
      "text/plain": [
       "1.068"
      ]
     },
     "execution_count": 356,
     "metadata": {},
     "output_type": "execute_result"
    }
   ],
   "source": [
    "mae_score, unpred_index = mae(y_true,y_pred)\n",
    "mae_score"
   ]
  },
  {
   "cell_type": "code",
   "execution_count": 357,
   "id": "310cb577",
   "metadata": {},
   "outputs": [
    {
     "data": {
      "text/plain": [
       "1.544"
      ]
     },
     "execution_count": 357,
     "metadata": {},
     "output_type": "execute_result"
    }
   ],
   "source": [
    "rmse_score, unpred_index = rmse(y_true,y_pred)\n",
    "rmse_score"
   ]
  },
  {
   "cell_type": "code",
   "execution_count": 359,
   "id": "eb14de9a",
   "metadata": {},
   "outputs": [],
   "source": [
    "rc = (len(y_pred)-len(unpred_index))/len(y_true)"
   ]
  },
  {
   "cell_type": "code",
   "execution_count": 360,
   "id": "7573b342",
   "metadata": {},
   "outputs": [
    {
     "data": {
      "text/plain": [
       "0.96"
      ]
     },
     "execution_count": 360,
     "metadata": {},
     "output_type": "execute_result"
    }
   ],
   "source": [
    "rc"
   ]
  }
 ],
 "metadata": {
  "kernelspec": {
   "display_name": "Python 3 (ipykernel)",
   "language": "python",
   "name": "python3"
  },
  "language_info": {
   "codemirror_mode": {
    "name": "ipython",
    "version": 3
   },
   "file_extension": ".py",
   "mimetype": "text/x-python",
   "name": "python",
   "nbconvert_exporter": "python",
   "pygments_lexer": "ipython3",
   "version": "3.9.13"
  }
 },
 "nbformat": 4,
 "nbformat_minor": 5
}
